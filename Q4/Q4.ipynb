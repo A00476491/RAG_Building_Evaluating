{
 "cells": [
  {
   "cell_type": "code",
   "execution_count": null,
   "metadata": {},
   "outputs": [],
   "source": [
    "from components import rag\n",
    "\n",
    "query = \"What option do civil servants in Malaysia have for their working hours during Ramadan, according to Communications Minister Fahmi Fadzil?\"\n",
    "document_dataset = \"./data/1K_news.csv\"\n",
    "output = rag.query_answering_system(query, document_dataset)\n",
    "print('Answer: {}'.format(output['answer']))\n",
    "print('Reference1: {}'.format(output['title'][0]))\n",
    "print('Reference1: {}'.format(output['title'][1]))\n",
    "print('Reference1: {}'.format(output['title'][2]))"
   ]
  }
 ],
 "metadata": {
  "kernelspec": {
   "display_name": "ml",
   "language": "python",
   "name": "python3"
  },
  "language_info": {
   "codemirror_mode": {
    "name": "ipython",
    "version": 3
   },
   "file_extension": ".py",
   "mimetype": "text/x-python",
   "name": "python",
   "nbconvert_exporter": "python",
   "pygments_lexer": "ipython3",
   "version": "3.9.20"
  }
 },
 "nbformat": 4,
 "nbformat_minor": 2
}
