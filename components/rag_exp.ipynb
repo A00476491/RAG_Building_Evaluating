{
 "cells": [
  {
   "cell_type": "code",
   "execution_count": null,
   "metadata": {},
   "outputs": [],
   "source": [
    "from sentence_transformers import SentenceTransformer\n",
    "from sklearn.metrics.pairwise import cosine_similarity\n",
    "import numpy as np\n",
    "from transformers import AutoModelForCausalLM, AutoTokenizer\n",
    "import pandas as pd\n",
    "import torch\n",
    "import os\n",
    "import re\n"
   ]
  },
  {
   "cell_type": "code",
   "execution_count": null,
   "metadata": {},
   "outputs": [],
   "source": [
    "# Function to generate embeddings for documents and queries\n",
    "def generate_embeddings(embedding_model, texts, device):\n",
    "    \n",
    "    return embedding_model.encode(texts, show_progress_bar=True, batch_size=160, device=device)"
   ]
  },
  {
   "cell_type": "code",
   "execution_count": null,
   "metadata": {},
   "outputs": [],
   "source": [
    "# Function to retrieve top k most similar documents\n",
    "def retrieve_documents(query, doc_embeddings, documents, embedding_model, device, k=3):\n",
    "    \n",
    "    # Generate embeddings for the query and documents\n",
    "    query_embedding = generate_embeddings(embedding_model, [query], device)\n",
    "    \n",
    "    # Compute cosine similarity between query and documents\n",
    "    similarities = cosine_similarity(query_embedding, doc_embeddings)\n",
    "    \n",
    "    # Get top k most similar documents\n",
    "    most_similar_indices = similarities.argsort()[0][-k:][::-1]\n",
    "    return [documents[i] for i in most_similar_indices]"
   ]
  },
  {
   "cell_type": "code",
   "execution_count": null,
   "metadata": {},
   "outputs": [],
   "source": [
    "# Function to generate an answer based on retrieved documents\n",
    "def generate_answer(generator_model, tokenizer, query, retrieved_docs):\n",
    "\n",
    "    # Construct the prompt using the retrieved documents\n",
    "    prompt = \"Given the following documents:\\n\"\n",
    "    prompt += \"\\n\".join(f\"{i}. {doc}\" for i, doc in enumerate(retrieved_docs, 1))\n",
    "    prompt += f\"\\n\\nUser query: {query}\\n\\n\"\n",
    "    prompt += \"Based on the above documents, provide a concise, clear and short answer to the user's query.\\n\"\n",
    "    prompt += \"Don't need too much explanation and keep the anwser in 50 words.\\n\"\n",
    "\n",
    "    messages = [\n",
    "        {\"role\": \"system\", \"content\": \"You are Qwen, created by Alibaba Cloud. You are a helpful assistant.\"},\n",
    "        {\"role\": \"user\", \"content\": prompt}\n",
    "    ]\n",
    "\n",
    "    text = tokenizer.apply_chat_template(\n",
    "        messages,\n",
    "        tokenize=False,\n",
    "        add_generation_prompt=True\n",
    "    )\n",
    "\n",
    "    model_inputs = tokenizer([text], return_tensors=\"pt\").to(generator_model.device)\n",
    "\n",
    "    generated_ids = generator_model.generate(\n",
    "        **model_inputs,\n",
    "        max_new_tokens=512\n",
    "    )\n",
    "\n",
    "    generated_ids = [\n",
    "        output_ids[len(input_ids):] for input_ids, output_ids in zip(model_inputs.input_ids, generated_ids)\n",
    "    ]\n",
    "\n",
    "    response = tokenizer.batch_decode(generated_ids, skip_special_tokens=True)[0]\n",
    "    return response\n",
    "\n"
   ]
  },
  {
   "cell_type": "code",
   "execution_count": null,
   "metadata": {},
   "outputs": [],
   "source": [
    "# check if there is a GPU\n",
    "device = torch.device(\"cuda\" if torch.cuda.is_available() else \"cpu\")\n",
    "print(device)"
   ]
  },
  {
   "cell_type": "code",
   "execution_count": null,
   "metadata": {},
   "outputs": [],
   "source": [
    "# Step 1: Load pre-trained models\n",
    "embedding_model = SentenceTransformer('BAAI/bge-small-en').to(device)\n",
    "\n",
    "model_name = \"Qwen/Qwen2.5-0.5B\"  # \"Qwen/Qwen2.5-1.5B\"\n",
    "tokenizer = AutoTokenizer.from_pretrained(model_name, trust_remote_code=True)\n",
    "generator_model = AutoModelForCausalLM.from_pretrained(\n",
    "    model_name,\n",
    "    torch_dtype=torch.float16, \n",
    ").to(device)\n",
    "\n"
   ]
  },
  {
   "cell_type": "code",
   "execution_count": null,
   "metadata": {},
   "outputs": [],
   "source": [
    "# Step 2: Index dataset\n",
    "df = pd.read_csv('../data/1K_news.csv', encoding='utf-8')\n",
    "data_list = df.values.tolist()\n",
    "documents = ['title: {}.  text: {}'.format(d[1], d[2])  for d in data_list]\n",
    "\n",
    "torch.cuda.empty_cache()\n",
    "\n",
    "if not os.path.exists('../data/document_embeddings.npy'):\n",
    "    documents_embedding =  generate_embeddings(embedding_model, documents, device)\n",
    "    \n",
    "    # Save embeddings to a numpy file\n",
    "    np.save('../data/document_embeddings.npy', documents_embedding)\n",
    "\n",
    "# Load embeddings from the numpy file\n",
    "documents_embedding = np.load('../data/document_embeddings.npy')"
   ]
  },
  {
   "cell_type": "code",
   "execution_count": null,
   "metadata": {},
   "outputs": [],
   "source": [
    "# Step 3: Perform Retrieval\n",
    "query = \"What option do civil servants in Malaysia have for their working hours during Ramadan, according to Communications Minister Fahmi Fadzil?\"\n",
    "retrieved_docs = retrieve_documents(query, documents_embedding, documents, embedding_model, device, k=2)\n",
    "\n",
    "# view retrieved documents\n",
    "for doc in retrieved_docs:\n",
    "    print(re.search(r'^(.*?)text:', doc).group(1).strip())"
   ]
  },
  {
   "cell_type": "code",
   "execution_count": null,
   "metadata": {},
   "outputs": [],
   "source": [
    "# Step 4: Perform Generation\n",
    "answer = generate_answer(generator_model, tokenizer, query, retrieved_docs)\n",
    "print(\"Generated Answer:\")\n",
    "print(answer)"
   ]
  },
  {
   "cell_type": "code",
   "execution_count": null,
   "metadata": {},
   "outputs": [],
   "source": [
    "print(device)"
   ]
  },
  {
   "cell_type": "code",
   "execution_count": null,
   "metadata": {},
   "outputs": [],
   "source": [
    "torch.cuda.empty_cache()"
   ]
  }
 ],
 "metadata": {
  "kernelspec": {
   "display_name": "ml",
   "language": "python",
   "name": "python3"
  },
  "language_info": {
   "codemirror_mode": {
    "name": "ipython",
    "version": 3
   },
   "file_extension": ".py",
   "mimetype": "text/x-python",
   "name": "python",
   "nbconvert_exporter": "python",
   "pygments_lexer": "ipython3",
   "version": "3.9.20"
  }
 },
 "nbformat": 4,
 "nbformat_minor": 2
}
