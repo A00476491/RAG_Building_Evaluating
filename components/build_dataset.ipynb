{
 "cells": [
  {
   "cell_type": "code",
   "execution_count": null,
   "metadata": {},
   "outputs": [],
   "source": [
    "import pandas as pd\n",
    "import matplotlib.pyplot as plt"
   ]
  },
  {
   "cell_type": "code",
   "execution_count": null,
   "metadata": {},
   "outputs": [],
   "source": [
    "df = pd.read_csv('../data/news_raw.csv', encoding='utf-8')\n",
    "df.head()"
   ]
  },
  {
   "cell_type": "code",
   "execution_count": null,
   "metadata": {},
   "outputs": [],
   "source": [
    "# Ensure conversion to datetime type\n",
    "df['word_count'] = df['text'].astype(str).apply(lambda x: len(x.split()))\n",
    "df_filtered = df[df['word_count'] < 300]\n",
    "df_filtered['published_date'] = pd.to_datetime(df_filtered['published_date'], errors='coerce')\n",
    "\n",
    "# Sort by time in descending order and select the most recent 1000 rows\n",
    "df_sorted = df_filtered.sort_values(by='published_date', ascending=False).head(1000)\n",
    "df_sorted.to_csv('../data/1K_news.csv', index=False, encoding='utf-8')"
   ]
  },
  {
   "cell_type": "code",
   "execution_count": null,
   "metadata": {},
   "outputs": [],
   "source": [
    "# 统计分布\n",
    "plt.figure(figsize=(10, 6))\n",
    "plt.hist(df_sorted['word_count'], bins=30, edgecolor='black')\n",
    "plt.xlabel('Word Count')\n",
    "plt.ylabel('Frequency')\n",
    "plt.title('Distribution of Word Count in Text')\n",
    "plt.grid(axis='y', linestyle='--', alpha=0.7)\n",
    "plt.show()"
   ]
  }
 ],
 "metadata": {
  "kernelspec": {
   "display_name": "ml",
   "language": "python",
   "name": "python3"
  },
  "language_info": {
   "codemirror_mode": {
    "name": "ipython",
    "version": 3
   },
   "file_extension": ".py",
   "mimetype": "text/x-python",
   "name": "python",
   "nbconvert_exporter": "python",
   "pygments_lexer": "ipython3",
   "version": "3.9.20"
  }
 },
 "nbformat": 4,
 "nbformat_minor": 2
}
