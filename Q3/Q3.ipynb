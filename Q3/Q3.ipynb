{
 "cells": [
  {
   "cell_type": "code",
   "execution_count": null,
   "metadata": {},
   "outputs": [],
   "source": [
    "import IPython\n",
    "IPython.display.clear_output()"
   ]
  },
  {
   "cell_type": "code",
   "execution_count": null,
   "metadata": {
    "ExecuteTime": {
     "end_time": "2025-03-08T07:30:37.623130Z",
     "start_time": "2025-03-08T07:30:37.620252Z"
    }
   },
   "outputs": [],
   "source": [
    "import sys\n",
    "import os\n",
    "from components import rag\n",
    "from components.rag import query_answering_system\n",
    "current_dir = os.getcwd()\n",
    "parent_dir = os.path.dirname(current_dir)\n",
    "sys.path.insert(0, parent_dir)\n",
    "document_dataset = \"../data/1K_news.csv\""
   ]
  },
  {
   "cell_type": "code",
   "execution_count": null,
   "metadata": {
    "ExecuteTime": {
     "end_time": "2025-03-08T07:44:10.354907Z",
     "start_time": "2025-03-08T07:42:59.311644Z"
    }
   },
   "outputs": [],
   "source": [
    "import pandas as pd\n",
    "import ollama\n",
    "import random\n",
    "\n",
    "# 配置\n",
    "INPUT_CSV = \"./data/1K_news.csv\"\n",
    "OUTPUT_CSV = \"./Q3/TestQuestion20.csv\"\n",
    "MODEL_NAME = \"gemma\"  # 使用本地Ollama模型名称\n",
    "\n",
    "def generate_question(news, label):\n",
    "    # 构建不同的提示模板\n",
    "    role_map = {\n",
    "        \"good\": \"You are a rigorous journalism professor, ask a short question that requires deeper understanding based on the following news item:\",\n",
    "        \"bad\": \"You're an AI who likes to play pranks, ask a completely short unrelated and ridiculous question based on the following news item:\", \n",
    "        \"general\": \"You are a news reporter, ask a simple short factual question based on the following:\"\n",
    "    }\n",
    "    \n",
    "    prompt = f\"{role_map[label]}\\n\\n{news['text']}\\n\\nPlease output the question directly without explanation\"\n",
    "    \n",
    "    response = ollama.generate(\n",
    "        model=MODEL_NAME,\n",
    "        prompt=prompt,\n",
    "        options={'temperature': 0.8 if label == \"bad\" else 0.4}\n",
    "    )\n",
    "    \n",
    "    return response['response'].split(\"?\")[0].strip() + \"?\"\n",
    "\n",
    "# 读取数据\n",
    "df = pd.read_csv(INPUT_CSV)\n",
    "results = []\n",
    "\n",
    "# 生成问题\n",
    "for _ in range(20):\n",
    "    # 随机选择1-3篇新闻\n",
    "    selected = df.sample(random.randint(1,3))\n",
    "    combined_text = \" \".join(selected['text'])\n",
    "    category = selected.iloc[0]['category']\n",
    "    ids = \",\".join(selected['content_id'].astype(str))\n",
    "    \n",
    "    # 确保三种类型均衡\n",
    "    label = [\"good\", \"bad\", \"general\"][_ % 3] if _ < 18 else random.choice([\"good\", \"bad\", \"general\"])\n",
    "    \n",
    "    try:\n",
    "        question = generate_question({\"text\": combined_text}, label)\n",
    "        results.append({\n",
    "            \"question\": question,\n",
    "            \"label\": label,\n",
    "            \"id\": ids,\n",
    "            \"category\": category\n",
    "        })\n",
    "    except Exception as e:\n",
    "        print(f\"Build failure: {str(e)}\")\n",
    "\n",
    "# 保存结果\n",
    "pd.DataFrame(results).to_csv(OUTPUT_CSV, index=False, encoding='utf-8')"
   ]
  },
  {
   "cell_type": "code",
   "execution_count": null,
   "metadata": {
    "ExecuteTime": {
     "end_time": "2025-03-08T08:23:45.757395Z",
     "start_time": "2025-03-08T08:23:37.791066Z"
    }
   },
   "outputs": [],
   "source": [
    "current_dir = os.getcwd()\n",
    "parent_dir = os.path.dirname(current_dir)\n",
    "sys.path.insert(0, parent_dir)\n",
    "\n",
    "df = pd.read_csv(\"./TestQuestion20.csv\")\n",
    "df_1K = pd.read_csv(\"../data/1K_news.csv\")\n",
    "\n",
    "if 'question' not in df.columns:\n",
    "    raise ValueError(\"The CSV file must contain a 'question' column.\")\n",
    "\n",
    "answers = []\n",
    "retrieved_docs_id = []\n",
    "retrieved_docs1 = []\n",
    "retrieved_docs2 = []\n",
    "retrieved_docs3 = []\n",
    "\n",
    "document_dataset = \"../data/1K_news.csv\"\n",
    "\n",
    "for question in df['question']:\n",
    "\n",
    "    output = query_answering_system(question, document_dataset)\n",
    "    print(output)\n",
    "\n",
    "    answers.append(output['answer'])\n",
    "    retrieved_docs_id.append(str(output['retrieved_docs_id']))\n",
    "\n",
    "    retrieved_docs1.append(\n",
    "        df_1K.loc[df_1K['content_id'] == output['retrieved_docs_id'][0], 'text'].values[0]\n",
    "    )\n",
    "    retrieved_docs2.append(\n",
    "        df_1K.loc[df_1K['content_id'] == output['retrieved_docs_id'][1], 'text'].values[0]\n",
    "    )\n",
    "    retrieved_docs3.append(\n",
    "        df_1K.loc[df_1K['content_id'] == output['retrieved_docs_id'][2], 'text'].values[0]\n",
    "    )"
   ]
  },
  {
   "cell_type": "code",
   "execution_count": null,
   "metadata": {
    "ExecuteTime": {
     "end_time": "2025-03-08T07:25:51.762587Z",
     "start_time": "2025-03-08T07:25:51.536194Z"
    }
   },
   "outputs": [],
   "source": [
    "df['answer'] = answers\n",
    "df['retrieved_docs_id'] = retrieved_docs_id\n",
    "df['retrieved document1'] = retrieved_docs1\n",
    "df['retrieved document2'] = retrieved_docs2\n",
    "df['retrieved document3'] = retrieved_docs3\n",
    "\n",
    "df.to_csv(\"TestQuestion20_with_answers.csv\", index=False)\n",
    "\n",
    "print(\"Processing complete. The output file is saved as 'TestQuestion20_with_answers.csv'.\")"
   ]
  }
 ],
 "metadata": {
  "kernelspec": {
   "display_name": "ml",
   "language": "python",
   "name": "python3"
  },
  "language_info": {
   "codemirror_mode": {
    "name": "ipython",
    "version": 3
   },
   "file_extension": ".py",
   "mimetype": "text/x-python",
   "name": "python",
   "nbconvert_exporter": "python",
   "pygments_lexer": "ipython3",
   "version": "3.9.20"
  }
 },
 "nbformat": 4,
 "nbformat_minor": 2
}
