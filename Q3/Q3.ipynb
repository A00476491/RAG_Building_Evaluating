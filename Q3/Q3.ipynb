{
 "cells": [
  {
   "cell_type": "code",
   "execution_count": null,
   "metadata": {},
   "outputs": [
    {
     "name": "stderr",
     "output_type": "stream",
     "text": [
      "Batches: 100%|██████████| 1/1 [00:00<00:00,  2.91it/s]\n",
      "Setting `pad_token_id` to `eos_token_id`:151643 for open-end generation.\n"
     ]
    },
    {
     "name": "stdout",
     "output_type": "stream",
     "text": [
      "Answer: Civil servants in Malaysia have the option to choose flexible working hours during Ramadan, allowing them to leave work 30 minutes earlier.\n",
      "Reference1: Civil servants can opt for flexible working hours during Ramadan, says Fahmi.\n",
      "Reference2: Selangor civil servants allowed to leave work 30 minutes early during Ramadan.\n",
      "Reference3: Flexi work hours for Perlis civil servants during Ramadan.\n"
     ]
    }
   ],
   "source": [
    "import sys\n",
    "import os\n",
    "current_dir = os.getcwd()\n",
    "parent_dir = os.path.dirname(current_dir)\n",
    "sys.path.insert(0, parent_dir)\n",
    "\n",
    "from components import rag\n",
    "import pandas as pd\n"
   ]
  },
  {
   "cell_type": "code",
   "execution_count": null,
   "metadata": {},
   "outputs": [
    {
     "name": "stderr",
     "output_type": "stream",
     "text": [
      "Batches: 100%|██████████| 1/1 [00:00<00:00, 93.16it/s]\n",
      "Setting `pad_token_id` to `eos_token_id`:151643 for open-end generation.\n",
      "Batches: 100%|██████████| 1/1 [00:00<00:00, 87.68it/s]\n",
      "Setting `pad_token_id` to `eos_token_id`:151643 for open-end generation.\n",
      "Batches: 100%|██████████| 1/1 [00:00<00:00, 82.16it/s]\n",
      "Setting `pad_token_id` to `eos_token_id`:151643 for open-end generation.\n",
      "Batches: 100%|██████████| 1/1 [00:00<00:00, 30.21it/s]\n",
      "Setting `pad_token_id` to `eos_token_id`:151643 for open-end generation.\n",
      "Batches: 100%|██████████| 1/1 [00:00<00:00, 86.39it/s]\n",
      "Setting `pad_token_id` to `eos_token_id`:151643 for open-end generation.\n",
      "Batches: 100%|██████████| 1/1 [00:00<00:00, 49.67it/s]\n",
      "Setting `pad_token_id` to `eos_token_id`:151643 for open-end generation.\n",
      "Batches: 100%|██████████| 1/1 [00:00<00:00, 71.36it/s]\n",
      "Setting `pad_token_id` to `eos_token_id`:151643 for open-end generation.\n",
      "Batches: 100%|██████████| 1/1 [00:00<00:00, 19.11it/s]\n",
      "Setting `pad_token_id` to `eos_token_id`:151643 for open-end generation.\n",
      "Batches: 100%|██████████| 1/1 [00:00<?, ?it/s]\n",
      "Setting `pad_token_id` to `eos_token_id`:151643 for open-end generation.\n",
      "Batches: 100%|██████████| 1/1 [00:00<00:00, 37.02it/s]\n",
      "Setting `pad_token_id` to `eos_token_id`:151643 for open-end generation.\n",
      "Batches: 100%|██████████| 1/1 [00:00<00:00, 49.16it/s]\n",
      "Setting `pad_token_id` to `eos_token_id`:151643 for open-end generation.\n",
      "Batches: 100%|██████████| 1/1 [00:00<00:00, 41.46it/s]\n",
      "Setting `pad_token_id` to `eos_token_id`:151643 for open-end generation.\n",
      "Batches: 100%|██████████| 1/1 [00:00<00:00, 100.81it/s]\n",
      "Setting `pad_token_id` to `eos_token_id`:151643 for open-end generation.\n",
      "Batches: 100%|██████████| 1/1 [00:00<00:00, 53.45it/s]\n",
      "Setting `pad_token_id` to `eos_token_id`:151643 for open-end generation.\n",
      "Batches: 100%|██████████| 1/1 [00:00<00:00, 52.96it/s]\n",
      "Setting `pad_token_id` to `eos_token_id`:151643 for open-end generation.\n",
      "Batches: 100%|██████████| 1/1 [00:00<00:00, 45.06it/s]\n",
      "Setting `pad_token_id` to `eos_token_id`:151643 for open-end generation.\n",
      "Batches: 100%|██████████| 1/1 [00:00<00:00, 26.78it/s]\n",
      "Setting `pad_token_id` to `eos_token_id`:151643 for open-end generation.\n",
      "Batches: 100%|██████████| 1/1 [00:00<00:00, 80.72it/s]\n",
      "Setting `pad_token_id` to `eos_token_id`:151643 for open-end generation.\n",
      "Batches: 100%|██████████| 1/1 [00:00<00:00, 105.08it/s]\n",
      "Setting `pad_token_id` to `eos_token_id`:151643 for open-end generation.\n",
      "Batches: 100%|██████████| 1/1 [00:00<00:00, 65.03it/s]\n",
      "Setting `pad_token_id` to `eos_token_id`:151643 for open-end generation.\n"
     ]
    }
   ],
   "source": [
    "df = pd.read_csv(\"TestQuestion20.csv\")\n",
    "df_1K = pd.read_csv(\"../data/1K_news.csv\")\n",
    "\n",
    "if 'Question' not in df.columns:\n",
    "    raise ValueError(\"The CSV file must contain a 'Question' column.\")\n",
    "\n",
    "answers = []\n",
    "retrieved_docs_id = []\n",
    "retrieved_docs1 = []\n",
    "retrieved_docs2 = []\n",
    "retrieved_docs3 = []\n",
    "\n",
    "document_dataset = \"../data/1K_news.csv\"\n",
    "\n",
    "for question in df['Question']:\n",
    "\n",
    "    output = rag.query_answering_system(question, document_dataset)\n",
    "\n",
    "    answers.append(output['answer'])\n",
    "    retrieved_docs_id.append(str(output['retrieved_docs_id']))\n",
    "\n",
    "    retrieved_docs1.append(\n",
    "        df_1K.loc[df_1K['content_id'] == output['retrieved_docs_id'][0], 'text'].values[0]\n",
    "    )\n",
    "    retrieved_docs2.append(\n",
    "        df_1K.loc[df_1K['content_id'] == output['retrieved_docs_id'][1], 'text'].values[0]\n",
    "    )\n",
    "    retrieved_docs3.append(\n",
    "        df_1K.loc[df_1K['content_id'] == output['retrieved_docs_id'][2], 'text'].values[0]\n",
    "    )\n",
    "    "
   ]
  },
  {
   "cell_type": "code",
   "execution_count": 15,
   "metadata": {},
   "outputs": [
    {
     "name": "stdout",
     "output_type": "stream",
     "text": [
      "Processing complete. The output file is saved as 'TestQuestion20_with_answers.csv'.\n"
     ]
    }
   ],
   "source": [
    "df['answer'] = answers\n",
    "df['retrieved_docs_id'] = retrieved_docs_id\n",
    "df['retrieved document1'] = retrieved_docs1\n",
    "df['retrieved document2'] = retrieved_docs2\n",
    "df['retrieved document3'] = retrieved_docs3\n",
    "\n",
    "df.to_csv(\"TestQuestion20_with_answers.csv\", index=False)\n",
    "\n",
    "print(\"Processing complete. The output file is saved as 'TestQuestion20_with_answers.csv'.\")"
   ]
  }
 ],
 "metadata": {
  "kernelspec": {
   "display_name": "ml",
   "language": "python",
   "name": "python3"
  },
  "language_info": {
   "codemirror_mode": {
    "name": "ipython",
    "version": 3
   },
   "file_extension": ".py",
   "mimetype": "text/x-python",
   "name": "python",
   "nbconvert_exporter": "python",
   "pygments_lexer": "ipython3",
   "version": "3.9.20"
  }
 },
 "nbformat": 4,
 "nbformat_minor": 2
}
