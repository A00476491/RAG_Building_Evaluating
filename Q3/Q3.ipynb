{
 "cells": [
  {
   "cell_type": "code",
   "execution_count": null,
   "metadata": {},
   "outputs": [],
   "source": [
    "import sys\n",
    "import os\n",
    "current_dir = os.getcwd()\n",
    "parent_dir = os.path.dirname(current_dir)\n",
    "sys.path.insert(0, parent_dir)\n",
    "\n",
    "from components import rag\n",
    "import pandas as pd\n"
   ]
  },
  {
   "cell_type": "code",
   "execution_count": null,
   "metadata": {},
   "outputs": [],
   "source": [
    "df = pd.read_csv(\"TestQuestion20.csv\")\n",
    "df_1K = pd.read_csv(\"../data/1K_news.csv\")\n",
    "\n",
    "if 'Question' not in df.columns:\n",
    "    raise ValueError(\"The CSV file must contain a 'Question' column.\")\n",
    "\n",
    "answers = []\n",
    "retrieved_docs_id = []\n",
    "retrieved_docs1 = []\n",
    "retrieved_docs2 = []\n",
    "retrieved_docs3 = []\n",
    "\n",
    "document_dataset = \"../data/1K_news.csv\"\n",
    "\n",
    "for question in df['Question']:\n",
    "\n",
    "    output = rag.query_answering_system(question, document_dataset)\n",
    "\n",
    "    answers.append(output['answer'])\n",
    "    retrieved_docs_id.append(str(output['retrieved_docs_id']))\n",
    "\n",
    "    retrieved_docs1.append(\n",
    "        df_1K.loc[df_1K['content_id'] == output['retrieved_docs_id'][0], 'text'].values[0]\n",
    "    )\n",
    "    retrieved_docs2.append(\n",
    "        df_1K.loc[df_1K['content_id'] == output['retrieved_docs_id'][1], 'text'].values[0]\n",
    "    )\n",
    "    retrieved_docs3.append(\n",
    "        df_1K.loc[df_1K['content_id'] == output['retrieved_docs_id'][2], 'text'].values[0]\n",
    "    )\n",
    "    "
   ]
  },
  {
   "cell_type": "code",
   "execution_count": null,
   "metadata": {},
   "outputs": [],
   "source": [
    "df['answer'] = answers\n",
    "df['retrieved_docs_id'] = retrieved_docs_id\n",
    "df['retrieved document1'] = retrieved_docs1\n",
    "df['retrieved document2'] = retrieved_docs2\n",
    "df['retrieved document3'] = retrieved_docs3\n",
    "\n",
    "df.to_csv(\"TestQuestion20_with_answers.csv\", index=False)\n",
    "\n",
    "print(\"Processing complete. The output file is saved as 'TestQuestion20_with_answers.csv'.\")"
   ]
  }
 ],
 "metadata": {
  "kernelspec": {
   "display_name": "ml",
   "language": "python",
   "name": "python3"
  },
  "language_info": {
   "codemirror_mode": {
    "name": "ipython",
    "version": 3
   },
   "file_extension": ".py",
   "mimetype": "text/x-python",
   "name": "python",
   "nbconvert_exporter": "python",
   "pygments_lexer": "ipython3",
   "version": "3.9.20"
  }
 },
 "nbformat": 4,
 "nbformat_minor": 2
}
