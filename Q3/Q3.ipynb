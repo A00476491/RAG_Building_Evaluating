{
 "cells": [
  {
   "cell_type": "code",
   "metadata": {
    "ExecuteTime": {
     "end_time": "2025-03-08T06:20:53.780846Z",
     "start_time": "2025-03-08T06:20:43.009216Z"
    }
   },
   "source": [
    "import sys\n",
    "import os\n",
    "from components import rag\n",
    "from components.rag import query_answering_system\n",
    "current_dir = os.getcwd()\n",
    "parent_dir = os.path.dirname(current_dir)\n",
    "sys.path.insert(0, parent_dir)\n",
    "\n",
    "query = \"What option do civil servants in Malaysia have for their working hours during Ramadan, according to Communications Minister Fahmi Fadzil?\"\n",
    "document_dataset = \"./data/1K_news.csv\"\n",
    "output = rag.query_answering_system(query, document_dataset)\n",
    "print('Answer: {}'.format(output['answer']))\n",
    "print('Reference1: {}'.format(output['title'][0]))\n",
    "print('Reference1: {}'.format(output['title'][1]))\n",
    "print('Reference1: {}'.format(output['title'][2]))\n"
   ],
   "outputs": [
    {
     "data": {
      "text/plain": [
       "Batches:   0%|          | 0/1 [00:00<?, ?it/s]"
      ],
      "application/vnd.jupyter.widget-view+json": {
       "version_major": 2,
       "version_minor": 0,
       "model_id": "5eba3511385f437297d890d5e09235d7"
      }
     },
     "metadata": {},
     "output_type": "display_data"
    },
    {
     "name": "stderr",
     "output_type": "stream",
     "text": [
      "Setting `pad_token_id` to `eos_token_id`:151643 for open-end generation.\n"
     ]
    },
    {
     "name": "stdout",
     "output_type": "stream",
     "text": [
      "Answer: Civil servants in Malaysia have the option to choose flexible working hours during Ramadan, according to Communications Minister Fahmi Fadzil. They can either maintain their existing working hours or shorten their lunch break by 30 minutes, allowing them to leave work 30 minutes earlier. This is in line with discussions with Chief Secretary to the Government Tan Sri Shamsul Azri Abu Bakar and Public Service director-general Tan Sri Wan Ahmad Dahlan Abdul Aziz. The state government will implement flexible working hours, which shortens rest periods by 30 minutes to allow staff to go home earlier. The flexible working hours' implementation for federal department staff in Perlis will depend on the decisions made by their respective department heads. The state government remains committed to ensuring the welfare of its civil servants without compromising service delivery efficiency, as part of its efforts to improve public service quality for the people.\n",
      "Reference1: Civil servants can opt for flexible working hours during Ramadan, says Fahmi.\n",
      "Reference1: Selangor civil servants allowed to leave work 30 minutes early during Ramadan.\n",
      "Reference1: Flexi work hours for Perlis civil servants during Ramadan.\n"
     ]
    }
   ],
   "execution_count": 30
  },
  {
   "metadata": {
    "ExecuteTime": {
     "end_time": "2025-03-08T05:16:11.491488Z",
     "start_time": "2025-03-08T05:15:29.809581Z"
    }
   },
   "cell_type": "code",
   "source": [
    "import ollama\n",
    "import pandas as pd\n",
    "\n",
    "# 配置参数\n",
    "INPUT_CSV = \"./data/1K_news.csv\"\n",
    "OUTPUT_CSV = \"./data/Q3/TestQuestion20.csv\"\n",
    "N_NEWS = 5  # 处理前5条新闻\n",
    "X_GOOD = 2  # 每条生成2个好问题\n",
    "Y_BAD = 1   # 每条生成1个坏问题\n",
    "Z_NORMAL = 1 # 每条生成1个普通问题\n",
    "\n",
    "# 读取数据时直接获取所需字段\n",
    "df = pd.read_csv(INPUT_CSV)\n",
    "news_data = df[[\"content_id\", \"title\", \"text\", \"category\"]].values.tolist()[:N_NEWS]\n",
    "\n",
    "def generate_questions(news, question_type, num):\n",
    "    \"\"\"核心生成函数\"\"\"\n",
    "    # 直接从输入数据解包（这里固定获取原始数据）\n",
    "    content_id, title, text, category = news\n",
    "    \n",
    "    # 简化后的prompt（只让AI生成问题和原因）\n",
    "    prompt = f\"\"\"Generate {num} {question_type} questions from this news:\n",
    "    \n",
    "    News Content: {text[:500]}\n",
    "    \n",
    "    Output Format（只需生成前两列）:\n",
    "    [Question] || [Reason]\n",
    "    \n",
    "    Example:\n",
    "    How do mergers affect market competition? || Analyzes business strategy impact\"\"\"\n",
    "    \n",
    "    # 调用模型\n",
    "    response = ollama.chat(\n",
    "        model=\"gemma\",\n",
    "        messages=[{\"role\": \"user\", \"content\": prompt}]\n",
    "    )\n",
    "    \n",
    "    # 解析响应时直接使用原始数据（关键修改点）\n",
    "    questions = []\n",
    "    for line in response[\"message\"][\"content\"].split(\"\\n\"):\n",
    "        if \"||\" in line:\n",
    "            parts = line.split(\"||\")\n",
    "            if len(parts) >= 2:  # 只取问题和原因\n",
    "                questions.append({\n",
    "                    \"question\": parts[0].strip(),\n",
    "                    \"reason\": parts[1].strip(),\n",
    "                    # 以下字段直接使用原始数据\n",
    "                    \"source_id\": content_id,\n",
    "                    \"source_title\": title,\n",
    "                    \"source_category\": category,\n",
    "                    \"label\": question_type\n",
    "                })\n",
    "    return questions[:num]\n",
    "\n",
    "# 批量生成问题\n",
    "all_questions = []\n",
    "for news in news_data:\n",
    "    all_questions.extend(generate_questions(news, \"Good\", X_GOOD))\n",
    "    all_questions.extend(generate_questions(news, \"Bad\", Y_BAD))\n",
    "    all_questions.extend(generate_questions(news, \"General\", Z_NORMAL))\n",
    "\n",
    "# 保存结果\n",
    "pd.DataFrame(all_questions).to_csv(OUTPUT_CSV, index=False, encoding=\"utf-8-sig\")"
   ],
   "outputs": [],
   "execution_count": 13
  },
  {
   "metadata": {},
   "cell_type": "code",
   "source": [
    "import IPython\n",
    "IPython.display.clear_output()"
   ],
   "execution_count": 12,
   "outputs": []
  },
  {
   "metadata": {
    "ExecuteTime": {
     "end_time": "2025-03-08T06:27:55.956360Z",
     "start_time": "2025-03-08T06:27:55.907722Z"
    }
   },
   "cell_type": "code",
   "source": [
    "df = pd.read_csv(\"TestQuestion20.csv\")\n",
    "df_1K = pd.read_csv(\"./data/1K_news.csv\")\n",
    "\n",
    "if 'Question' not in df.columns:\n",
    "    raise ValueError(\"The CSV file must contain a 'Question' column.\")\n",
    "\n",
    "answers = []\n",
    "retrieved_docs_id = []\n",
    "retrieved_docs1 = []\n",
    "retrieved_docs2 = []\n",
    "retrieved_docs3 = []\n",
    "\n",
    "document_dataset = \"../data/1K_news.csv\"\n",
    "\n",
    "for question in df['Question']:\n",
    "\n",
    "    output = query_answering_system(question, document_dataset)\n",
    "\n",
    "    answers.append(output['answer'])\n",
    "    retrieved_docs_id.append(str(output['retrieved_docs_id']))\n",
    "\n",
    "    retrieved_docs1.append(\n",
    "        df_1K.loc[df_1K['content_id'] == output['retrieved_docs_id'][0], 'text'].values[0]\n",
    "    )\n",
    "    retrieved_docs2.append(\n",
    "        df_1K.loc[df_1K['content_id'] == output['retrieved_docs_id'][1], 'text'].values[0]\n",
    "    )\n",
    "    retrieved_docs3.append(\n",
    "        df_1K.loc[df_1K['content_id'] == output['retrieved_docs_id'][2], 'text'].values[0]\n",
    "    )"
   ],
   "outputs": [
    {
     "ename": "ValueError",
     "evalue": "The CSV file must contain a 'Question' column.",
     "output_type": "error",
     "traceback": [
      "\u001B[31m---------------------------------------------------------------------------\u001B[39m",
      "\u001B[31mValueError\u001B[39m                                Traceback (most recent call last)",
      "\u001B[36mCell\u001B[39m\u001B[36m \u001B[39m\u001B[32mIn[40]\u001B[39m\u001B[32m, line 5\u001B[39m\n\u001B[32m      2\u001B[39m df_1K = pd.read_csv(\u001B[33m\"\u001B[39m\u001B[33m./data/1K_news.csv\u001B[39m\u001B[33m\"\u001B[39m)\n\u001B[32m      4\u001B[39m \u001B[38;5;28;01mif\u001B[39;00m \u001B[33m'\u001B[39m\u001B[33mQuestion\u001B[39m\u001B[33m'\u001B[39m \u001B[38;5;129;01mnot\u001B[39;00m \u001B[38;5;129;01min\u001B[39;00m df.columns:\n\u001B[32m----> \u001B[39m\u001B[32m5\u001B[39m     \u001B[38;5;28;01mraise\u001B[39;00m \u001B[38;5;167;01mValueError\u001B[39;00m(\u001B[33m\"\u001B[39m\u001B[33mThe CSV file must contain a \u001B[39m\u001B[33m'\u001B[39m\u001B[33mQuestion\u001B[39m\u001B[33m'\u001B[39m\u001B[33m column.\u001B[39m\u001B[33m\"\u001B[39m)\n\u001B[32m      7\u001B[39m answers = []\n\u001B[32m      8\u001B[39m retrieved_docs_id = []\n",
      "\u001B[31mValueError\u001B[39m: The CSV file must contain a 'Question' column."
     ]
    }
   ],
   "execution_count": 40
  },
  {
   "metadata": {
    "ExecuteTime": {
     "end_time": "2025-03-08T06:27:58.187771Z",
     "start_time": "2025-03-08T06:27:58.158332Z"
    }
   },
   "cell_type": "code",
   "source": [
    "df['answer'] = answers\n",
    "df['retrieved_docs_id'] = retrieved_docs_id\n",
    "df['retrieved document1'] = retrieved_docs1\n",
    "df['retrieved document2'] = retrieved_docs2\n",
    "df['retrieved document3'] = retrieved_docs3\n",
    "\n",
    "df.to_csv(\"TestQuestion20_with_answers.csv\", index=False)\n",
    "\n",
    "print(\"Processing complete. The output file is saved as 'TestQuestion20_with_answers.csv'.\")"
   ],
   "outputs": [
    {
     "ename": "NameError",
     "evalue": "name 'answers' is not defined",
     "output_type": "error",
     "traceback": [
      "\u001B[31m---------------------------------------------------------------------------\u001B[39m",
      "\u001B[31mNameError\u001B[39m                                 Traceback (most recent call last)",
      "\u001B[36mCell\u001B[39m\u001B[36m \u001B[39m\u001B[32mIn[41]\u001B[39m\u001B[32m, line 1\u001B[39m\n\u001B[32m----> \u001B[39m\u001B[32m1\u001B[39m df[\u001B[33m'\u001B[39m\u001B[33manswer\u001B[39m\u001B[33m'\u001B[39m] = \u001B[43manswers\u001B[49m\n\u001B[32m      2\u001B[39m df[\u001B[33m'\u001B[39m\u001B[33mretrieved_docs_id\u001B[39m\u001B[33m'\u001B[39m] = retrieved_docs_id\n\u001B[32m      3\u001B[39m df[\u001B[33m'\u001B[39m\u001B[33mretrieved document1\u001B[39m\u001B[33m'\u001B[39m] = retrieved_docs1\n",
      "\u001B[31mNameError\u001B[39m: name 'answers' is not defined"
     ]
    }
   ],
   "execution_count": 41
  },
  {
   "metadata": {},
   "cell_type": "code",
   "outputs": [],
   "execution_count": null,
   "source": ""
  }
 ],
 "metadata": {
  "kernelspec": {
   "display_name": "ml",
   "language": "python",
   "name": "python3"
  },
  "language_info": {
   "codemirror_mode": {
    "name": "ipython",
    "version": 3
   },
   "file_extension": ".py",
   "mimetype": "text/x-python",
   "name": "python",
   "nbconvert_exporter": "python",
   "pygments_lexer": "ipython3",
   "version": "3.9.20"
  }
 },
 "nbformat": 4,
 "nbformat_minor": 2
}
