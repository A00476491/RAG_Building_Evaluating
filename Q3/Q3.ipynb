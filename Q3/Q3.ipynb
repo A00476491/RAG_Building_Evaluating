{
 "cells": [
  {
   "metadata": {},
   "cell_type": "code",
   "source": [
    "import IPython\n",
    "IPython.display.clear_output()"
   ],
   "execution_count": 64,
   "outputs": []
  },
  {
   "metadata": {
    "ExecuteTime": {
     "end_time": "2025-03-08T07:30:37.623130Z",
     "start_time": "2025-03-08T07:30:37.620252Z"
    }
   },
   "cell_type": "code",
   "source": [
    "import sys\n",
    "import os\n",
    "from components import rag\n",
    "from components.rag import query_answering_system\n",
    "current_dir = os.getcwd()\n",
    "parent_dir = os.path.dirname(current_dir)\n",
    "sys.path.insert(0, parent_dir)\n",
    "document_dataset = \"./data/1K_news.csv\""
   ],
   "outputs": [],
   "execution_count": 65
  },
  {
   "metadata": {
    "ExecuteTime": {
     "end_time": "2025-03-08T07:44:10.354907Z",
     "start_time": "2025-03-08T07:42:59.311644Z"
    }
   },
   "cell_type": "code",
   "source": [
    "import pandas as pd\n",
    "import ollama\n",
    "import random\n",
    "\n",
    "# 配置\n",
    "INPUT_CSV = \"./data/1K_news.csv\"\n",
    "OUTPUT_CSV = \"./Q3/TestQuestion20.csv\"\n",
    "MODEL_NAME = \"gemma\"  # 使用本地Ollama模型名称\n",
    "\n",
    "def generate_question(news, label):\n",
    "    # 构建不同的提示模板\n",
    "    role_map = {\n",
    "        \"good\": \"You are a rigorous journalism professor, ask a short question that requires deeper understanding based on the following news item:\",\n",
    "        \"bad\": \"You're an AI who likes to play pranks, ask a completely short unrelated and ridiculous question based on the following news item:\", \n",
    "        \"general\": \"You are a news reporter, ask a simple short factual question based on the following:\"\n",
    "    }\n",
    "    \n",
    "    prompt = f\"{role_map[label]}\\n\\n{news['text']}\\n\\nPlease output the question directly without explanation\"\n",
    "    \n",
    "    response = ollama.generate(\n",
    "        model=MODEL_NAME,\n",
    "        prompt=prompt,\n",
    "        options={'temperature': 0.8 if label == \"bad\" else 0.4}\n",
    "    )\n",
    "    \n",
    "    return response['response'].split(\"?\")[0].strip() + \"?\"\n",
    "\n",
    "# 读取数据\n",
    "df = pd.read_csv(INPUT_CSV)\n",
    "results = []\n",
    "\n",
    "# 生成问题\n",
    "for _ in range(20):\n",
    "    # 随机选择1-3篇新闻\n",
    "    selected = df.sample(random.randint(1,3))\n",
    "    combined_text = \" \".join(selected['text'])\n",
    "    category = selected.iloc[0]['category']\n",
    "    ids = \",\".join(selected['content_id'].astype(str))\n",
    "    \n",
    "    # 确保三种类型均衡\n",
    "    label = [\"good\", \"bad\", \"general\"][_ % 3] if _ < 18 else random.choice([\"good\", \"bad\", \"general\"])\n",
    "    \n",
    "    try:\n",
    "        question = generate_question({\"text\": combined_text}, label)\n",
    "        results.append({\n",
    "            \"question\": question,\n",
    "            \"label\": label,\n",
    "            \"id\": ids,\n",
    "            \"category\": category\n",
    "        })\n",
    "    except Exception as e:\n",
    "        print(f\"Build failure: {str(e)}\")\n",
    "\n",
    "# 保存结果\n",
    "pd.DataFrame(results).to_csv(OUTPUT_CSV, index=False, encoding='utf-8')"
   ],
   "outputs": [],
   "execution_count": 71
  },
  {
   "metadata": {
    "ExecuteTime": {
     "end_time": "2025-03-08T07:44:36.755851Z",
     "start_time": "2025-03-08T07:44:22.517580Z"
    }
   },
   "cell_type": "code",
   "source": [
    "current_dir = os.getcwd()\n",
    "parent_dir = os.path.dirname(current_dir)\n",
    "sys.path.insert(0, parent_dir)\n",
    "\n",
    "df = pd.read_csv(\"./Q3/TestQuestion20.csv\")\n",
    "df_1K = pd.read_csv(\"./data/1K_news.csv\")\n",
    "\n",
    "if 'question' not in df.columns:\n",
    "    raise ValueError(\"The CSV file must contain a 'question' column.\")\n",
    "\n",
    "answers = []\n",
    "retrieved_docs_id = []\n",
    "retrieved_docs1 = []\n",
    "retrieved_docs2 = []\n",
    "retrieved_docs3 = []\n",
    "\n",
    "document_dataset = \"./data/1K_news.csv\"\n",
    "\n",
    "for question in df['question']:\n",
    "\n",
    "    output = query_answering_system(question, document_dataset)\n",
    "    print(output)\n",
    "\n",
    "    answers.append(output['answer'])\n",
    "    retrieved_docs_id.append(str(output['retrieved_docs_id']))\n",
    "\n",
    "    retrieved_docs1.append(\n",
    "        df_1K.loc[df_1K['content_id'] == output['retrieved_docs_id'][0], 'text'].values[0]\n",
    "    )\n",
    "    retrieved_docs2.append(\n",
    "        df_1K.loc[df_1K['content_id'] == output['retrieved_docs_id'][1], 'text'].values[0]\n",
    "    )\n",
    "    retrieved_docs3.append(\n",
    "        df_1K.loc[df_1K['content_id'] == output['retrieved_docs_id'][2], 'text'].values[0]\n",
    "    )"
   ],
   "outputs": [
    {
     "data": {
      "text/plain": [
       "Batches:   0%|          | 0/1 [00:00<?, ?it/s]"
      ],
      "application/vnd.jupyter.widget-view+json": {
       "version_major": 2,
       "version_minor": 0,
       "model_id": "a5d63268f2524b28ae1c0f725c8dcfeb"
      }
     },
     "metadata": {},
     "output_type": "display_data"
    },
    {
     "name": "stderr",
     "output_type": "stream",
     "text": [
      "Setting `pad_token_id` to `eos_token_id`:151643 for open-end generation.\n"
     ]
    },
    {
     "name": "stdout",
     "output_type": "stream",
     "text": [
      "{'answer': \"The recent surge in gold prices is driven by several factors, including:\\n\\n1. Uncertainty over U.S. President Donald Trump's tariffs on Chinese imports and steel and aluminum. Trump has imposed a 10% tariff on Chinese imports and a 25% tariff on steel and aluminum, which could lead to concerns about higher inflation and a global trade war.\\n\\n2. The strong dollar, which makes gold more expensive for foreign buyers. The dollar index is set for a weekly gain of 0.7%, making greenback-priced gold more expensive for foreign buyers.\\n\\n3. The potential for a peace deal between Russia and Ukraine. If a peace deal moves closer to fruition, it could lead to a stronger U.S. dollar, which would make gold more expensive for foreign buyers.\\n\\n4. The uncertainty on the trade front. The U.S. trade tensions could lead to a stronger U.S. dollar, which would make gold more expensive for foreign buyers.\\n\\n5. The potential for a stronger U.S. dollar. If the U.S. dollar is expected to strengthen, it could make gold more expensive for foreign buyers.\\n\\nPotential peace negotiations between Russia and Ukraine could potentially lead to a stronger U.S. dollar, which would make gold more expensive for foreign buyers. However, this would depend on the outcome of the negotiations and the potential for a trade war.\", 'title': ['Gold scales new high on Trump tariff concerns.', 'Gold set for eighth weekly gain as tariff threats boost safe-haven demand.', 'Gold set for biggest weekly drop in over 3 months; US inflation data in focus.']}\n"
     ]
    },
    {
     "ename": "KeyError",
     "evalue": "'retrieved_docs_id'",
     "output_type": "error",
     "traceback": [
      "\u001B[31m---------------------------------------------------------------------------\u001B[39m",
      "\u001B[31mKeyError\u001B[39m                                  Traceback (most recent call last)",
      "\u001B[36mCell\u001B[39m\u001B[36m \u001B[39m\u001B[32mIn[72]\u001B[39m\u001B[32m, line 25\u001B[39m\n\u001B[32m     22\u001B[39m \u001B[38;5;28mprint\u001B[39m(output)\n\u001B[32m     24\u001B[39m answers.append(output[\u001B[33m'\u001B[39m\u001B[33manswer\u001B[39m\u001B[33m'\u001B[39m])\n\u001B[32m---> \u001B[39m\u001B[32m25\u001B[39m retrieved_docs_id.append(\u001B[38;5;28mstr\u001B[39m(\u001B[43moutput\u001B[49m\u001B[43m[\u001B[49m\u001B[33;43m'\u001B[39;49m\u001B[33;43mretrieved_docs_id\u001B[39;49m\u001B[33;43m'\u001B[39;49m\u001B[43m]\u001B[49m))\n\u001B[32m     27\u001B[39m retrieved_docs1.append(\n\u001B[32m     28\u001B[39m     df_1K.loc[df_1K[\u001B[33m'\u001B[39m\u001B[33mcontent_id\u001B[39m\u001B[33m'\u001B[39m] == output[\u001B[33m'\u001B[39m\u001B[33mretrieved_docs_id\u001B[39m\u001B[33m'\u001B[39m][\u001B[32m0\u001B[39m], \u001B[33m'\u001B[39m\u001B[33mtext\u001B[39m\u001B[33m'\u001B[39m].values[\u001B[32m0\u001B[39m]\n\u001B[32m     29\u001B[39m )\n\u001B[32m     30\u001B[39m retrieved_docs2.append(\n\u001B[32m     31\u001B[39m     df_1K.loc[df_1K[\u001B[33m'\u001B[39m\u001B[33mcontent_id\u001B[39m\u001B[33m'\u001B[39m] == output[\u001B[33m'\u001B[39m\u001B[33mretrieved_docs_id\u001B[39m\u001B[33m'\u001B[39m][\u001B[32m1\u001B[39m], \u001B[33m'\u001B[39m\u001B[33mtext\u001B[39m\u001B[33m'\u001B[39m].values[\u001B[32m0\u001B[39m]\n\u001B[32m     32\u001B[39m )\n",
      "\u001B[31mKeyError\u001B[39m: 'retrieved_docs_id'"
     ]
    }
   ],
   "execution_count": 72
  },
  {
   "metadata": {
    "ExecuteTime": {
     "end_time": "2025-03-08T07:25:51.762587Z",
     "start_time": "2025-03-08T07:25:51.536194Z"
    }
   },
   "cell_type": "code",
   "source": [
    "df['answer'] = answers\n",
    "df['retrieved_docs_id'] = retrieved_docs_id\n",
    "df['retrieved document1'] = retrieved_docs1\n",
    "df['retrieved document2'] = retrieved_docs2\n",
    "df['retrieved document3'] = retrieved_docs3\n",
    "\n",
    "df.to_csv(\"TestQuestion20_with_answers.csv\", index=False)\n",
    "\n",
    "print(\"Processing complete. The output file is saved as 'TestQuestion20_with_answers.csv'.\")"
   ],
   "outputs": [
    {
     "ename": "ValueError",
     "evalue": "Length of values (1) does not match length of index (20)",
     "output_type": "error",
     "traceback": [
      "\u001B[31m---------------------------------------------------------------------------\u001B[39m",
      "\u001B[31mValueError\u001B[39m                                Traceback (most recent call last)",
      "\u001B[36mCell\u001B[39m\u001B[36m \u001B[39m\u001B[32mIn[59]\u001B[39m\u001B[32m, line 1\u001B[39m\n\u001B[32m----> \u001B[39m\u001B[32m1\u001B[39m \u001B[43mdf\u001B[49m\u001B[43m[\u001B[49m\u001B[33;43m'\u001B[39;49m\u001B[33;43manswer\u001B[39;49m\u001B[33;43m'\u001B[39;49m\u001B[43m]\u001B[49m = answers\n\u001B[32m      2\u001B[39m df[\u001B[33m'\u001B[39m\u001B[33mretrieved_docs_id\u001B[39m\u001B[33m'\u001B[39m] = retrieved_docs_id\n\u001B[32m      3\u001B[39m df[\u001B[33m'\u001B[39m\u001B[33mretrieved document1\u001B[39m\u001B[33m'\u001B[39m] = retrieved_docs1\n",
      "\u001B[36mFile \u001B[39m\u001B[32m~/Documents/PyCharmProjects/RAG_Building_Evaluating/.venv/lib/python3.13/site-packages/pandas/core/frame.py:4311\u001B[39m, in \u001B[36mDataFrame.__setitem__\u001B[39m\u001B[34m(self, key, value)\u001B[39m\n\u001B[32m   4308\u001B[39m     \u001B[38;5;28mself\u001B[39m._setitem_array([key], value)\n\u001B[32m   4309\u001B[39m \u001B[38;5;28;01melse\u001B[39;00m:\n\u001B[32m   4310\u001B[39m     \u001B[38;5;66;03m# set column\u001B[39;00m\n\u001B[32m-> \u001B[39m\u001B[32m4311\u001B[39m     \u001B[38;5;28;43mself\u001B[39;49m\u001B[43m.\u001B[49m\u001B[43m_set_item\u001B[49m\u001B[43m(\u001B[49m\u001B[43mkey\u001B[49m\u001B[43m,\u001B[49m\u001B[43m \u001B[49m\u001B[43mvalue\u001B[49m\u001B[43m)\u001B[49m\n",
      "\u001B[36mFile \u001B[39m\u001B[32m~/Documents/PyCharmProjects/RAG_Building_Evaluating/.venv/lib/python3.13/site-packages/pandas/core/frame.py:4524\u001B[39m, in \u001B[36mDataFrame._set_item\u001B[39m\u001B[34m(self, key, value)\u001B[39m\n\u001B[32m   4514\u001B[39m \u001B[38;5;28;01mdef\u001B[39;00m\u001B[38;5;250m \u001B[39m\u001B[34m_set_item\u001B[39m(\u001B[38;5;28mself\u001B[39m, key, value) -> \u001B[38;5;28;01mNone\u001B[39;00m:\n\u001B[32m   4515\u001B[39m \u001B[38;5;250m    \u001B[39m\u001B[33;03m\"\"\"\u001B[39;00m\n\u001B[32m   4516\u001B[39m \u001B[33;03m    Add series to DataFrame in specified column.\u001B[39;00m\n\u001B[32m   4517\u001B[39m \n\u001B[32m   (...)\u001B[39m\u001B[32m   4522\u001B[39m \u001B[33;03m    ensure homogeneity.\u001B[39;00m\n\u001B[32m   4523\u001B[39m \u001B[33;03m    \"\"\"\u001B[39;00m\n\u001B[32m-> \u001B[39m\u001B[32m4524\u001B[39m     value, refs = \u001B[38;5;28;43mself\u001B[39;49m\u001B[43m.\u001B[49m\u001B[43m_sanitize_column\u001B[49m\u001B[43m(\u001B[49m\u001B[43mvalue\u001B[49m\u001B[43m)\u001B[49m\n\u001B[32m   4526\u001B[39m     \u001B[38;5;28;01mif\u001B[39;00m (\n\u001B[32m   4527\u001B[39m         key \u001B[38;5;129;01min\u001B[39;00m \u001B[38;5;28mself\u001B[39m.columns\n\u001B[32m   4528\u001B[39m         \u001B[38;5;129;01mand\u001B[39;00m value.ndim == \u001B[32m1\u001B[39m\n\u001B[32m   4529\u001B[39m         \u001B[38;5;129;01mand\u001B[39;00m \u001B[38;5;129;01mnot\u001B[39;00m \u001B[38;5;28misinstance\u001B[39m(value.dtype, ExtensionDtype)\n\u001B[32m   4530\u001B[39m     ):\n\u001B[32m   4531\u001B[39m         \u001B[38;5;66;03m# broadcast across multiple columns if necessary\u001B[39;00m\n\u001B[32m   4532\u001B[39m         \u001B[38;5;28;01mif\u001B[39;00m \u001B[38;5;129;01mnot\u001B[39;00m \u001B[38;5;28mself\u001B[39m.columns.is_unique \u001B[38;5;129;01mor\u001B[39;00m \u001B[38;5;28misinstance\u001B[39m(\u001B[38;5;28mself\u001B[39m.columns, MultiIndex):\n",
      "\u001B[36mFile \u001B[39m\u001B[32m~/Documents/PyCharmProjects/RAG_Building_Evaluating/.venv/lib/python3.13/site-packages/pandas/core/frame.py:5266\u001B[39m, in \u001B[36mDataFrame._sanitize_column\u001B[39m\u001B[34m(self, value)\u001B[39m\n\u001B[32m   5263\u001B[39m     \u001B[38;5;28;01mreturn\u001B[39;00m _reindex_for_setitem(value, \u001B[38;5;28mself\u001B[39m.index)\n\u001B[32m   5265\u001B[39m \u001B[38;5;28;01mif\u001B[39;00m is_list_like(value):\n\u001B[32m-> \u001B[39m\u001B[32m5266\u001B[39m     \u001B[43mcom\u001B[49m\u001B[43m.\u001B[49m\u001B[43mrequire_length_match\u001B[49m\u001B[43m(\u001B[49m\u001B[43mvalue\u001B[49m\u001B[43m,\u001B[49m\u001B[43m \u001B[49m\u001B[38;5;28;43mself\u001B[39;49m\u001B[43m.\u001B[49m\u001B[43mindex\u001B[49m\u001B[43m)\u001B[49m\n\u001B[32m   5267\u001B[39m arr = sanitize_array(value, \u001B[38;5;28mself\u001B[39m.index, copy=\u001B[38;5;28;01mTrue\u001B[39;00m, allow_2d=\u001B[38;5;28;01mTrue\u001B[39;00m)\n\u001B[32m   5268\u001B[39m \u001B[38;5;28;01mif\u001B[39;00m (\n\u001B[32m   5269\u001B[39m     \u001B[38;5;28misinstance\u001B[39m(value, Index)\n\u001B[32m   5270\u001B[39m     \u001B[38;5;129;01mand\u001B[39;00m value.dtype == \u001B[33m\"\u001B[39m\u001B[33mobject\u001B[39m\u001B[33m\"\u001B[39m\n\u001B[32m   (...)\u001B[39m\u001B[32m   5273\u001B[39m     \u001B[38;5;66;03m# TODO: Remove kludge in sanitize_array for string mode when enforcing\u001B[39;00m\n\u001B[32m   5274\u001B[39m     \u001B[38;5;66;03m# this deprecation\u001B[39;00m\n",
      "\u001B[36mFile \u001B[39m\u001B[32m~/Documents/PyCharmProjects/RAG_Building_Evaluating/.venv/lib/python3.13/site-packages/pandas/core/common.py:573\u001B[39m, in \u001B[36mrequire_length_match\u001B[39m\u001B[34m(data, index)\u001B[39m\n\u001B[32m    569\u001B[39m \u001B[38;5;250m\u001B[39m\u001B[33;03m\"\"\"\u001B[39;00m\n\u001B[32m    570\u001B[39m \u001B[33;03mCheck the length of data matches the length of the index.\u001B[39;00m\n\u001B[32m    571\u001B[39m \u001B[33;03m\"\"\"\u001B[39;00m\n\u001B[32m    572\u001B[39m \u001B[38;5;28;01mif\u001B[39;00m \u001B[38;5;28mlen\u001B[39m(data) != \u001B[38;5;28mlen\u001B[39m(index):\n\u001B[32m--> \u001B[39m\u001B[32m573\u001B[39m     \u001B[38;5;28;01mraise\u001B[39;00m \u001B[38;5;167;01mValueError\u001B[39;00m(\n\u001B[32m    574\u001B[39m         \u001B[33m\"\u001B[39m\u001B[33mLength of values \u001B[39m\u001B[33m\"\u001B[39m\n\u001B[32m    575\u001B[39m         \u001B[33mf\u001B[39m\u001B[33m\"\u001B[39m\u001B[33m(\u001B[39m\u001B[38;5;132;01m{\u001B[39;00m\u001B[38;5;28mlen\u001B[39m(data)\u001B[38;5;132;01m}\u001B[39;00m\u001B[33m) \u001B[39m\u001B[33m\"\u001B[39m\n\u001B[32m    576\u001B[39m         \u001B[33m\"\u001B[39m\u001B[33mdoes not match length of index \u001B[39m\u001B[33m\"\u001B[39m\n\u001B[32m    577\u001B[39m         \u001B[33mf\u001B[39m\u001B[33m\"\u001B[39m\u001B[33m(\u001B[39m\u001B[38;5;132;01m{\u001B[39;00m\u001B[38;5;28mlen\u001B[39m(index)\u001B[38;5;132;01m}\u001B[39;00m\u001B[33m)\u001B[39m\u001B[33m\"\u001B[39m\n\u001B[32m    578\u001B[39m     )\n",
      "\u001B[31mValueError\u001B[39m: Length of values (1) does not match length of index (20)"
     ]
    }
   ],
   "execution_count": 59
  },
  {
   "metadata": {},
   "cell_type": "code",
   "outputs": [],
   "execution_count": null,
   "source": ""
  }
 ],
 "metadata": {
  "kernelspec": {
   "display_name": "ml",
   "language": "python",
   "name": "python3"
  },
  "language_info": {
   "codemirror_mode": {
    "name": "ipython",
    "version": 3
   },
   "file_extension": ".py",
   "mimetype": "text/x-python",
   "name": "python",
   "nbconvert_exporter": "python",
   "pygments_lexer": "ipython3",
   "version": "3.9.20"
  }
 },
 "nbformat": 4,
 "nbformat_minor": 2
}
