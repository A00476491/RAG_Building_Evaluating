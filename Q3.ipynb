{
 "cells": [
  {
   "cell_type": "code",
   "execution_count": 5,
   "metadata": {},
   "outputs": [
    {
     "name": "stderr",
     "output_type": "stream",
     "text": [
      "Batches: 100%|██████████| 1/1 [00:00<00:00, 47.07it/s]\n",
      "Setting `pad_token_id` to `eos_token_id`:151643 for open-end generation.\n"
     ]
    },
    {
     "name": "stdout",
     "output_type": "stream",
     "text": [
      "Answer: Civil servants in Malaysia have the option to choose flexible working hours during Ramadan, according to Communications Minister Fahmi Fadzil. They can either maintain their existing working hours or shorten their lunch break by 30 minutes, allowing them to leave work 30 minutes earlier. This is in line with discussions with Chief Secretary to the Government Tan Sri Shamsul Azri Abu Bakar and Public Service director-general Tan Sri Wan Ahmad Dahlan Abdul Aziz. The state government will implement flexible working hours, which shortens rest periods by 30 minutes to allow staff to go home earlier. The flexible working hours' implementation for federal department staff in Perlis will depend on the decisions made by their respective department heads. The state government remains committed to ensuring the welfare of its civil servants without compromising service delivery efficiency, as part of its efforts to improve public service quality for the people.\n",
      "Reference1: Civil servants can opt for flexible working hours during Ramadan, says Fahmi.\n",
      "Reference1: Selangor civil servants allowed to leave work 30 minutes early during Ramadan.\n",
      "Reference1: Flexi work hours for Perlis civil servants during Ramadan.\n"
     ]
    }
   ],
   "source": [
    "from components import rag\n",
    "\n",
    "query = \"What option do civil servants in Malaysia have for their working hours during Ramadan, according to Communications Minister Fahmi Fadzil?\"\n",
    "document_dataset = \"./data/1K_news.csv\"\n",
    "output = rag.query_answering_system(query, document_dataset)\n",
    "print('Answer: {}'.format(output['answer']))\n",
    "print('Reference1: {}'.format(output['title'][0]))\n",
    "print('Reference1: {}'.format(output['title'][1]))\n",
    "print('Reference1: {}'.format(output['title'][2]))\n"
   ]
  }
 ],
 "metadata": {
  "kernelspec": {
   "display_name": "ml",
   "language": "python",
   "name": "python3"
  },
  "language_info": {
   "codemirror_mode": {
    "name": "ipython",
    "version": 3
   },
   "file_extension": ".py",
   "mimetype": "text/x-python",
   "name": "python",
   "nbconvert_exporter": "python",
   "pygments_lexer": "ipython3",
   "version": "3.9.20"
  }
 },
 "nbformat": 4,
 "nbformat_minor": 2
}
