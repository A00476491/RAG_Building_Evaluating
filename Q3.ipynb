{
 "cells": [
  {
   "cell_type": "code",
   "metadata": {
    "ExecuteTime": {
     "end_time": "2025-03-08T04:06:50.132687Z",
     "start_time": "2025-03-08T04:06:38.339152Z"
    }
   },
   "source": [
    "from components import rag\n",
    "\n",
    "query = \"What option do civil servants in Malaysia have for their working hours during Ramadan, according to Communications Minister Fahmi Fadzil?\"\n",
    "document_dataset = \"./data/1K_news.csv\"\n",
    "output = rag.query_answering_system(query, document_dataset)\n",
    "print('Answer: {}'.format(output['answer']))\n",
    "print('Reference1: {}'.format(output['title'][0]))\n",
    "print('Reference1: {}'.format(output['title'][1]))\n",
    "print('Reference1: {}'.format(output['title'][2]))\n"
   ],
   "outputs": [
    {
     "name": "stderr",
     "output_type": "stream",
     "text": [
      "Sliding Window Attention is enabled but not implemented for `sdpa`; unexpected results may be encountered.\n"
     ]
    },
    {
     "data": {
      "text/plain": [
       "Batches:   0%|          | 0/1 [00:00<?, ?it/s]"
      ],
      "application/vnd.jupyter.widget-view+json": {
       "version_major": 2,
       "version_minor": 0,
       "model_id": "325ca869843e4928a3576a907a164e95"
      }
     },
     "metadata": {},
     "output_type": "display_data"
    },
    {
     "name": "stderr",
     "output_type": "stream",
     "text": [
      "Setting `pad_token_id` to `eos_token_id`:151643 for open-end generation.\n"
     ]
    },
    {
     "name": "stdout",
     "output_type": "stream",
     "text": [
      "Answer: Civil servants in Malaysia can opt for flexible working hours during Ramadan, according to Communications Minister Fahmi Fadzil. They can either maintain their existing working hours or shorten their lunch break by 30 minutes, allowing them to leave work 30 minutes earlier. This follows discussions with Chief Secretary to the Government Tan Sri Shamsul Azri Abu Bakar and Public Service director-general Tan Sri Wan Ahmad Dahlan Abdul Aziz, he said.\n",
      "Reference1: Civil servants can opt for flexible working hours during Ramadan, says Fahmi.\n",
      "Reference1: Mixed rice issue: State fatwa committees decide on zakat fitrah rate, says Religious Affairs Minister.\n",
      "Reference1: Penang extends exemption from land, parcel tax penalty arrears until May 31.\n"
     ]
    }
   ],
   "execution_count": 1
  },
  {
   "metadata": {
    "ExecuteTime": {
     "end_time": "2025-03-08T05:16:11.491488Z",
     "start_time": "2025-03-08T05:15:29.809581Z"
    }
   },
   "cell_type": "code",
   "source": [
    "import ollama\n",
    "import pandas as pd\n",
    "\n",
    "# 配置参数\n",
    "INPUT_CSV = \"./data/1K_news.csv\"\n",
    "OUTPUT_CSV = \"./data/Q3/TestQuestion20.csv\"\n",
    "N_NEWS = 5  # 处理前5条新闻\n",
    "X_GOOD = 2  # 每条生成2个好问题\n",
    "Y_BAD = 1   # 每条生成1个坏问题\n",
    "Z_NORMAL = 1 # 每条生成1个普通问题\n",
    "\n",
    "# 读取数据时直接获取所需字段\n",
    "df = pd.read_csv(INPUT_CSV)\n",
    "news_data = df[[\"content_id\", \"title\", \"text\", \"category\"]].values.tolist()[:N_NEWS]\n",
    "\n",
    "def generate_questions(news, question_type, num):\n",
    "    \"\"\"核心生成函数\"\"\"\n",
    "    # 直接从输入数据解包（这里固定获取原始数据）\n",
    "    content_id, title, text, category = news\n",
    "    \n",
    "    # 简化后的prompt（只让AI生成问题和原因）\n",
    "    prompt = f\"\"\"Generate {num} {question_type} questions from this news:\n",
    "    \n",
    "    News Content: {text[:500]}\n",
    "    \n",
    "    Output Format（只需生成前两列）:\n",
    "    [Question] || [Reason]\n",
    "    \n",
    "    Example:\n",
    "    How do mergers affect market competition? || Analyzes business strategy impact\"\"\"\n",
    "    \n",
    "    # 调用模型\n",
    "    response = ollama.chat(\n",
    "        model=\"gemma\",\n",
    "        messages=[{\"role\": \"user\", \"content\": prompt}]\n",
    "    )\n",
    "    \n",
    "    # 解析响应时直接使用原始数据（关键修改点）\n",
    "    questions = []\n",
    "    for line in response[\"message\"][\"content\"].split(\"\\n\"):\n",
    "        if \"||\" in line:\n",
    "            parts = line.split(\"||\")\n",
    "            if len(parts) >= 2:  # 只取问题和原因\n",
    "                questions.append({\n",
    "                    \"question\": parts[0].strip(),\n",
    "                    \"reason\": parts[1].strip(),\n",
    "                    # 以下字段直接使用原始数据\n",
    "                    \"source_id\": content_id,\n",
    "                    \"source_title\": title,\n",
    "                    \"source_category\": category,\n",
    "                    \"label\": question_type\n",
    "                })\n",
    "    return questions[:num]\n",
    "\n",
    "# 批量生成问题\n",
    "all_questions = []\n",
    "for news in news_data:\n",
    "    all_questions.extend(generate_questions(news, \"Good\", X_GOOD))\n",
    "    all_questions.extend(generate_questions(news, \"Bad\", Y_BAD))\n",
    "    all_questions.extend(generate_questions(news, \"General\", Z_NORMAL))\n",
    "\n",
    "# 保存结果\n",
    "pd.DataFrame(all_questions).to_csv(OUTPUT_CSV, index=False, encoding=\"utf-8-sig\")"
   ],
   "outputs": [],
   "execution_count": 13
  },
  {
   "metadata": {},
   "cell_type": "code",
   "source": [
    "import IPython\n",
    "IPython.display.clear_output()"
   ],
   "execution_count": 12,
   "outputs": []
  },
  {
   "metadata": {
    "ExecuteTime": {
     "end_time": "2025-03-08T03:02:46.352492Z",
     "start_time": "2025-03-08T02:59:02.792819Z"
    }
   },
   "cell_type": "code",
   "source": [
    "import pandas as pd\n",
    "from components import rag  # Importing the RAG retrieval system\n",
    "\n",
    "# **1️⃣ Load TestQuestion20.csv**\n",
    "input_csv = \"./data/Q3/TestQuestion20.csv\"\n",
    "df_questions = pd.read_csv(input_csv, encoding=\"utf-8\")\n",
    "\n",
    "# **2️⃣ Load Document Dataset**\n",
    "document_dataset = \"./data/1K_news.csv\"\n",
    "\n",
    "# **3️⃣ Process Each Question**\n",
    "retrieved_data = []\n",
    "for idx, row in df_questions.iterrows():\n",
    "    query = row[\"Question\"]  # Get the query from CSV\n",
    "    output = rag.query_answering_system(query, document_dataset)\n",
    "\n",
    "    # Store retrieved documents (titles)\n",
    "    retrieved_docs = output.get(\"title\", [\"N/A\", \"N/A\", \"N/A\"])  # Ensure there are always 3 elements\n",
    "\n",
    "    # Append data\n",
    "    retrieved_data.append({\n",
    "        \"Generated_Answer\": output[\"answer\"],\n",
    "        \"Retrieved_Docs_ID1\": idx * 3 + 1,\n",
    "        \"Retrieved_Docs_ID2\": idx * 3 + 2,\n",
    "        \"Retrieved_Docs_ID3\": idx * 3 + 3,\n",
    "        \"Retrieved_Document1\": retrieved_docs[0],\n",
    "        \"Retrieved_Document2\": retrieved_docs[1],\n",
    "        \"Retrieved_Document3\": retrieved_docs[2]\n",
    "    })\n",
    "\n",
    "# **4️⃣ Convert Retrieved Data to DataFrame**\n",
    "df_retrieved = pd.DataFrame(retrieved_data)\n",
    "\n",
    "# **5️⃣ Merge with Original Data**\n",
    "df_enriched = pd.concat([df_questions, df_retrieved], axis=1)\n",
    "\n",
    "# **6️⃣ Save to New CSV**\n",
    "output_csv = \"./data/Q3/TestQuestion20_with_answers.csv\"\n",
    "df_enriched.to_csv(output_csv, index=False, encoding=\"utf-8\")\n",
    "\n",
    "print(f\"✅ Enriched dataset saved to {output_csv}\")"
   ],
   "outputs": [
    {
     "data": {
      "text/plain": [
       "Batches:   0%|          | 0/1 [00:00<?, ?it/s]"
      ],
      "application/vnd.jupyter.widget-view+json": {
       "version_major": 2,
       "version_minor": 0,
       "model_id": "f756cb040ea34ef29aca4655a19497e2"
      }
     },
     "metadata": {},
     "output_type": "display_data"
    },
    {
     "name": "stderr",
     "output_type": "stream",
     "text": [
      "Setting `pad_token_id` to `eos_token_id`:151643 for open-end generation.\n"
     ]
    },
    {
     "data": {
      "text/plain": [
       "Batches:   0%|          | 0/1 [00:00<?, ?it/s]"
      ],
      "application/vnd.jupyter.widget-view+json": {
       "version_major": 2,
       "version_minor": 0,
       "model_id": "2fd3a8919191461db1f18d4ede07e604"
      }
     },
     "metadata": {},
     "output_type": "display_data"
    },
    {
     "name": "stderr",
     "output_type": "stream",
     "text": [
      "Setting `pad_token_id` to `eos_token_id`:151643 for open-end generation.\n"
     ]
    },
    {
     "data": {
      "text/plain": [
       "Batches:   0%|          | 0/1 [00:00<?, ?it/s]"
      ],
      "application/vnd.jupyter.widget-view+json": {
       "version_major": 2,
       "version_minor": 0,
       "model_id": "c452f6c9a64a4bff9faa342ee0e1f03a"
      }
     },
     "metadata": {},
     "output_type": "display_data"
    },
    {
     "name": "stderr",
     "output_type": "stream",
     "text": [
      "Setting `pad_token_id` to `eos_token_id`:151643 for open-end generation.\n"
     ]
    },
    {
     "data": {
      "text/plain": [
       "Batches:   0%|          | 0/1 [00:00<?, ?it/s]"
      ],
      "application/vnd.jupyter.widget-view+json": {
       "version_major": 2,
       "version_minor": 0,
       "model_id": "39aad64e122f42b09dd647312a0b5de1"
      }
     },
     "metadata": {},
     "output_type": "display_data"
    },
    {
     "name": "stderr",
     "output_type": "stream",
     "text": [
      "Setting `pad_token_id` to `eos_token_id`:151643 for open-end generation.\n"
     ]
    },
    {
     "data": {
      "text/plain": [
       "Batches:   0%|          | 0/1 [00:00<?, ?it/s]"
      ],
      "application/vnd.jupyter.widget-view+json": {
       "version_major": 2,
       "version_minor": 0,
       "model_id": "41414daca29c4225b1a0366f221e4d86"
      }
     },
     "metadata": {},
     "output_type": "display_data"
    },
    {
     "name": "stderr",
     "output_type": "stream",
     "text": [
      "Setting `pad_token_id` to `eos_token_id`:151643 for open-end generation.\n"
     ]
    },
    {
     "data": {
      "text/plain": [
       "Batches:   0%|          | 0/1 [00:00<?, ?it/s]"
      ],
      "application/vnd.jupyter.widget-view+json": {
       "version_major": 2,
       "version_minor": 0,
       "model_id": "16d56e605c89464ab93d21766861ef41"
      }
     },
     "metadata": {},
     "output_type": "display_data"
    },
    {
     "name": "stderr",
     "output_type": "stream",
     "text": [
      "Setting `pad_token_id` to `eos_token_id`:151643 for open-end generation.\n"
     ]
    },
    {
     "data": {
      "text/plain": [
       "Batches:   0%|          | 0/1 [00:00<?, ?it/s]"
      ],
      "application/vnd.jupyter.widget-view+json": {
       "version_major": 2,
       "version_minor": 0,
       "model_id": "eb14e271aa114972b3b60e492c853db1"
      }
     },
     "metadata": {},
     "output_type": "display_data"
    },
    {
     "name": "stderr",
     "output_type": "stream",
     "text": [
      "Setting `pad_token_id` to `eos_token_id`:151643 for open-end generation.\n"
     ]
    },
    {
     "data": {
      "text/plain": [
       "Batches:   0%|          | 0/1 [00:00<?, ?it/s]"
      ],
      "application/vnd.jupyter.widget-view+json": {
       "version_major": 2,
       "version_minor": 0,
       "model_id": "f44df1c5a25d4594bf6b502be00d3780"
      }
     },
     "metadata": {},
     "output_type": "display_data"
    },
    {
     "name": "stderr",
     "output_type": "stream",
     "text": [
      "Setting `pad_token_id` to `eos_token_id`:151643 for open-end generation.\n"
     ]
    },
    {
     "data": {
      "text/plain": [
       "Batches:   0%|          | 0/1 [00:00<?, ?it/s]"
      ],
      "application/vnd.jupyter.widget-view+json": {
       "version_major": 2,
       "version_minor": 0,
       "model_id": "66a41a0cc2f041a9887522bb9e2b953d"
      }
     },
     "metadata": {},
     "output_type": "display_data"
    },
    {
     "name": "stderr",
     "output_type": "stream",
     "text": [
      "Setting `pad_token_id` to `eos_token_id`:151643 for open-end generation.\n"
     ]
    },
    {
     "data": {
      "text/plain": [
       "Batches:   0%|          | 0/1 [00:00<?, ?it/s]"
      ],
      "application/vnd.jupyter.widget-view+json": {
       "version_major": 2,
       "version_minor": 0,
       "model_id": "9b02806196d94d50ab9fd92b4e633aac"
      }
     },
     "metadata": {},
     "output_type": "display_data"
    },
    {
     "name": "stderr",
     "output_type": "stream",
     "text": [
      "Setting `pad_token_id` to `eos_token_id`:151643 for open-end generation.\n"
     ]
    },
    {
     "data": {
      "text/plain": [
       "Batches:   0%|          | 0/1 [00:00<?, ?it/s]"
      ],
      "application/vnd.jupyter.widget-view+json": {
       "version_major": 2,
       "version_minor": 0,
       "model_id": "b19bee0e17f249b78205084d59b3a20e"
      }
     },
     "metadata": {},
     "output_type": "display_data"
    },
    {
     "name": "stderr",
     "output_type": "stream",
     "text": [
      "Setting `pad_token_id` to `eos_token_id`:151643 for open-end generation.\n"
     ]
    },
    {
     "data": {
      "text/plain": [
       "Batches:   0%|          | 0/1 [00:00<?, ?it/s]"
      ],
      "application/vnd.jupyter.widget-view+json": {
       "version_major": 2,
       "version_minor": 0,
       "model_id": "aa8c427ad5854dee8bb6847794cfc194"
      }
     },
     "metadata": {},
     "output_type": "display_data"
    },
    {
     "name": "stderr",
     "output_type": "stream",
     "text": [
      "Setting `pad_token_id` to `eos_token_id`:151643 for open-end generation.\n"
     ]
    },
    {
     "data": {
      "text/plain": [
       "Batches:   0%|          | 0/1 [00:00<?, ?it/s]"
      ],
      "application/vnd.jupyter.widget-view+json": {
       "version_major": 2,
       "version_minor": 0,
       "model_id": "a04c7042aae7473787a89e2b819db052"
      }
     },
     "metadata": {},
     "output_type": "display_data"
    },
    {
     "name": "stderr",
     "output_type": "stream",
     "text": [
      "Setting `pad_token_id` to `eos_token_id`:151643 for open-end generation.\n"
     ]
    },
    {
     "data": {
      "text/plain": [
       "Batches:   0%|          | 0/1 [00:00<?, ?it/s]"
      ],
      "application/vnd.jupyter.widget-view+json": {
       "version_major": 2,
       "version_minor": 0,
       "model_id": "6628c2cf8eef4c07892711cb89578ad6"
      }
     },
     "metadata": {},
     "output_type": "display_data"
    },
    {
     "name": "stderr",
     "output_type": "stream",
     "text": [
      "Setting `pad_token_id` to `eos_token_id`:151643 for open-end generation.\n"
     ]
    },
    {
     "data": {
      "text/plain": [
       "Batches:   0%|          | 0/1 [00:00<?, ?it/s]"
      ],
      "application/vnd.jupyter.widget-view+json": {
       "version_major": 2,
       "version_minor": 0,
       "model_id": "9baf3ce1e33847df8f659b9e80ca9ef5"
      }
     },
     "metadata": {},
     "output_type": "display_data"
    },
    {
     "name": "stderr",
     "output_type": "stream",
     "text": [
      "Setting `pad_token_id` to `eos_token_id`:151643 for open-end generation.\n"
     ]
    },
    {
     "data": {
      "text/plain": [
       "Batches:   0%|          | 0/1 [00:00<?, ?it/s]"
      ],
      "application/vnd.jupyter.widget-view+json": {
       "version_major": 2,
       "version_minor": 0,
       "model_id": "2a6d74d7a0014e599c8caf6a1ba5db2d"
      }
     },
     "metadata": {},
     "output_type": "display_data"
    },
    {
     "name": "stderr",
     "output_type": "stream",
     "text": [
      "Setting `pad_token_id` to `eos_token_id`:151643 for open-end generation.\n"
     ]
    },
    {
     "data": {
      "text/plain": [
       "Batches:   0%|          | 0/1 [00:00<?, ?it/s]"
      ],
      "application/vnd.jupyter.widget-view+json": {
       "version_major": 2,
       "version_minor": 0,
       "model_id": "8431ac1f948b45cd9ca24bd0198a16f0"
      }
     },
     "metadata": {},
     "output_type": "display_data"
    },
    {
     "name": "stderr",
     "output_type": "stream",
     "text": [
      "Setting `pad_token_id` to `eos_token_id`:151643 for open-end generation.\n"
     ]
    },
    {
     "data": {
      "text/plain": [
       "Batches:   0%|          | 0/1 [00:00<?, ?it/s]"
      ],
      "application/vnd.jupyter.widget-view+json": {
       "version_major": 2,
       "version_minor": 0,
       "model_id": "4408ad53737242c4a5eb17a2a9e9c267"
      }
     },
     "metadata": {},
     "output_type": "display_data"
    },
    {
     "name": "stderr",
     "output_type": "stream",
     "text": [
      "Setting `pad_token_id` to `eos_token_id`:151643 for open-end generation.\n"
     ]
    },
    {
     "data": {
      "text/plain": [
       "Batches:   0%|          | 0/1 [00:00<?, ?it/s]"
      ],
      "application/vnd.jupyter.widget-view+json": {
       "version_major": 2,
       "version_minor": 0,
       "model_id": "4d21fdb559ab4bf69df4d043dd337151"
      }
     },
     "metadata": {},
     "output_type": "display_data"
    },
    {
     "name": "stderr",
     "output_type": "stream",
     "text": [
      "Setting `pad_token_id` to `eos_token_id`:151643 for open-end generation.\n"
     ]
    },
    {
     "data": {
      "text/plain": [
       "Batches:   0%|          | 0/1 [00:00<?, ?it/s]"
      ],
      "application/vnd.jupyter.widget-view+json": {
       "version_major": 2,
       "version_minor": 0,
       "model_id": "3eae84f1a0cb46d98d8b6f55da42f86f"
      }
     },
     "metadata": {},
     "output_type": "display_data"
    },
    {
     "name": "stderr",
     "output_type": "stream",
     "text": [
      "Setting `pad_token_id` to `eos_token_id`:151643 for open-end generation.\n"
     ]
    },
    {
     "data": {
      "text/plain": [
       "Batches:   0%|          | 0/1 [00:00<?, ?it/s]"
      ],
      "application/vnd.jupyter.widget-view+json": {
       "version_major": 2,
       "version_minor": 0,
       "model_id": "af033338e3a14a1ba38237baca334dc2"
      }
     },
     "metadata": {},
     "output_type": "display_data"
    },
    {
     "name": "stderr",
     "output_type": "stream",
     "text": [
      "Setting `pad_token_id` to `eos_token_id`:151643 for open-end generation.\n"
     ]
    },
    {
     "data": {
      "text/plain": [
       "Batches:   0%|          | 0/1 [00:00<?, ?it/s]"
      ],
      "application/vnd.jupyter.widget-view+json": {
       "version_major": 2,
       "version_minor": 0,
       "model_id": "4a3deb2807b645c2ad4b57760b2ac19d"
      }
     },
     "metadata": {},
     "output_type": "display_data"
    },
    {
     "name": "stderr",
     "output_type": "stream",
     "text": [
      "Setting `pad_token_id` to `eos_token_id`:151643 for open-end generation.\n"
     ]
    },
    {
     "data": {
      "text/plain": [
       "Batches:   0%|          | 0/1 [00:00<?, ?it/s]"
      ],
      "application/vnd.jupyter.widget-view+json": {
       "version_major": 2,
       "version_minor": 0,
       "model_id": "c0cb9b4fbdcb40d8bc628b91877a40df"
      }
     },
     "metadata": {},
     "output_type": "display_data"
    },
    {
     "name": "stderr",
     "output_type": "stream",
     "text": [
      "Setting `pad_token_id` to `eos_token_id`:151643 for open-end generation.\n"
     ]
    },
    {
     "data": {
      "text/plain": [
       "Batches:   0%|          | 0/1 [00:00<?, ?it/s]"
      ],
      "application/vnd.jupyter.widget-view+json": {
       "version_major": 2,
       "version_minor": 0,
       "model_id": "3843832a844e4da2ab44ef22f0450351"
      }
     },
     "metadata": {},
     "output_type": "display_data"
    },
    {
     "name": "stderr",
     "output_type": "stream",
     "text": [
      "Setting `pad_token_id` to `eos_token_id`:151643 for open-end generation.\n"
     ]
    },
    {
     "name": "stdout",
     "output_type": "stream",
     "text": [
      "✅ Enriched dataset saved to ./data/Q3/TestQuestion20_with_answers.csv\n"
     ]
    }
   ],
   "execution_count": 30
  },
  {
   "metadata": {},
   "cell_type": "code",
   "outputs": [],
   "execution_count": null,
   "source": ""
  }
 ],
 "metadata": {
  "kernelspec": {
   "display_name": "ml",
   "language": "python",
   "name": "python3"
  },
  "language_info": {
   "codemirror_mode": {
    "name": "ipython",
    "version": 3
   },
   "file_extension": ".py",
   "mimetype": "text/x-python",
   "name": "python",
   "nbconvert_exporter": "python",
   "pygments_lexer": "ipython3",
   "version": "3.9.20"
  }
 },
 "nbformat": 4,
 "nbformat_minor": 2
}
